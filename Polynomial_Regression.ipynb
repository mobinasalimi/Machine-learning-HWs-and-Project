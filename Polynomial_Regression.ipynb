{
  "cells": [
    {
      "cell_type": "markdown",
      "source": [
        "**Mobina Salimipanah - 99109788**"
      ],
      "metadata": {
        "id": "M3esT6uiCb9O"
      },
      "id": "M3esT6uiCb9O"
    },
    {
      "cell_type": "markdown",
      "id": "06d08c3d",
      "metadata": {
        "id": "06d08c3d"
      },
      "source": [
        "## Introduction\n",
        "This exercise explores polynomial regression, a form of regression analysis where the relationship between the independent variable \\( X \\) and the dependent variable \\( y \\) is modeled as an \\( n \\)th degree polynomial. We will create a synthetic dataset, train models with varying degrees of polynomials, and evaluate their performance on different test sets.\n",
        "\n",
        "## Task\n",
        "We want to use polynomial regression to model the relationship between the independent variable \\( X \\) and the dependent variable \\( y \\).\n",
        "\n",
        "## Dataset\n",
        "We will create a synthetic dataset using the given equation. We will use this dataset to train polynomial regression models with varying degrees of polynomials.\n",
        "We will also create different test sets to evaluate the models' performance.\n",
        "\n",
        "## Objective\n",
        "We want to find the degree of the polynomial that best fits the relationship between the independent variable \\( X \\) and the dependent variable \\( y \\). We will use the mean squared error (MSE) to evaluate the models' performance on different test sets.\n",
        "\n",
        "## Plan\n",
        "1. Create a synthetic dataset using the given equation.\n",
        "2. Split the dataset into training and testing sets.\n",
        "3. Train polynomial regression models with varying degrees of polynomials.\n",
        "4. Evaluate the models' performance on different test sets using the mean squared error (MSE).\n",
        "5. Find the degree of the polynomial that best fits the relationship between the independent variable \\( X \\) and the dependent variable \\( y \\).\n"
      ]
    },
    {
      "cell_type": "markdown",
      "id": "cf4e12d3",
      "metadata": {
        "id": "cf4e12d3"
      },
      "source": [
        "\n",
        "# Implementation (100 Points)\n",
        "We will start by creating a synthetic dataset using the given equation."
      ]
    },
    {
      "cell_type": "markdown",
      "id": "9b713c09",
      "metadata": {
        "id": "9b713c09"
      },
      "source": [
        "## 1. Create a synthetic dataset (20 Points)\n",
        "First, define a function to generate a dataset with 1000 samples in the range of **-4 to -1** from a polynomial with added noise. Assume that the noise is from a normal distribution and has a mean of 0 and std of 5.\n",
        "\n",
        "The relationship between the independent variable \\( X \\) and the dependent variable \\( y \\) is given by the following equation:\n",
        "\n",
        "\\[ y = 0.1X^5 + X^4 - 2X^3 + 7X^2 - 9X + 3 \\]\n",
        "\n",
        "Generate the independent variable \\( X \\) using the `numpy` library and then calculate the dependent variable \\( y \\) using the given equation."
      ]
    },
    {
      "cell_type": "code",
      "execution_count": 1,
      "id": "47c1ad20",
      "metadata": {
        "colab": {
          "base_uri": "https://localhost:8080/"
        },
        "id": "47c1ad20",
        "outputId": "2135ea99-89c0-4ef2-c0ea-6777125bcc2f"
      },
      "outputs": [
        {
          "output_type": "execute_result",
          "data": {
            "text/plain": [
              "(array([-4.        , -3.996997  , -3.99399399, -3.99099099, -3.98798799]),\n",
              " array([435.73406167, 433.71073   , 421.84390577, 416.95134684,\n",
              "        429.76483367]))"
            ]
          },
          "metadata": {},
          "execution_count": 1
        }
      ],
      "source": [
        "import numpy as np\n",
        "\n",
        "def generate_dataset(range_start, range_end, num_samples, noise_std=5.0):\n",
        "    X = np.linspace(range_start, range_end, num_samples)\n",
        "    y = 0.1 * X**5 + X**4 - 2 * X**3 + 7 * X**2 - 9 * X + 3\n",
        "\n",
        "    noise = np.random.normal(0, noise_std, num_samples)\n",
        "    y += noise\n",
        "\n",
        "    return X, y\n",
        "\n",
        "X, y = generate_dataset(-4, -1, 1000)\n",
        "X[:5], y[:5]\n"
      ]
    },
    {
      "cell_type": "code",
      "execution_count": 2,
      "id": "42372c5b",
      "metadata": {
        "id": "42372c5b"
      },
      "outputs": [],
      "source": [
        "X, y = generate_dataset(-4, -1, 1000)"
      ]
    },
    {
      "cell_type": "markdown",
      "id": "b45715c1",
      "metadata": {
        "id": "b45715c1"
      },
      "source": [
        "## 2. Splitting the Dataset (5 Points)\n",
        "Split the dataset into training and two test sets with the same length, ensuring one test set is in the range of the training data and the other is in the **range of 5 to 7.**"
      ]
    },
    {
      "cell_type": "code",
      "source": [
        "from sklearn.model_selection import train_test_split\n",
        "\n",
        "X_train, X_temp, y_train, y_temp = train_test_split(X, y, test_size=0.4, random_state=42)\n",
        "X_test_in_range, X_test_unused, y_test_in_range, y_test_unused = train_test_split(\n",
        "    X_temp, y_temp, test_size=0.5, random_state=42 )\n",
        "\n",
        "# Generate out-of-range testing set for the range 5 to 7\n",
        "X_test_out_of_range, y_test_out_of_range = generate_dataset(5, 7, len(X_test_in_range))\n",
        "\n"
      ],
      "metadata": {
        "id": "qzeTg_W1MsvW"
      },
      "id": "qzeTg_W1MsvW",
      "execution_count": 3,
      "outputs": []
    },
    {
      "cell_type": "markdown",
      "id": "7b803aeb",
      "metadata": {
        "id": "7b803aeb"
      },
      "source": [
        "## 3. Polynomial Regression Training (30 Points)\n",
        "Train polynomial regression models of varying degrees from degree = 2 to degree = 7. You can use the `preprocessing`, `linear_model`, and `pipeline` classes of the `sklearn` library."
      ]
    },
    {
      "cell_type": "code",
      "execution_count": 4,
      "id": "af3d0a08",
      "metadata": {
        "id": "af3d0a08"
      },
      "outputs": [],
      "source": [
        "from sklearn.preprocessing import PolynomialFeatures\n",
        "from sklearn.linear_model import LinearRegression\n",
        "from sklearn.pipeline import Pipeline\n",
        "\n",
        "def train_polynomial_regression(X, y, degree):\n",
        "\n",
        "    pipeline = Pipeline([\n",
        "        (\"poly_features\", PolynomialFeatures(degree=degree, include_bias=False)),\n",
        "        (\"lin_reg\", LinearRegression())\n",
        "    ])\n",
        "\n",
        "    pipeline.fit(X.reshape(-1, 1), y)\n",
        "    return pipeline"
      ]
    },
    {
      "cell_type": "code",
      "execution_count": 5,
      "id": "66085bd7",
      "metadata": {
        "id": "66085bd7"
      },
      "outputs": [],
      "source": [
        "models = {}\n",
        "for d in range(2, 8):\n",
        "    models[d] = train_polynomial_regression(X_train, y_train, d)"
      ]
    },
    {
      "cell_type": "markdown",
      "id": "bc7a79d7",
      "metadata": {
        "id": "bc7a79d7"
      },
      "source": [
        "## 4. Model Evaluation (15 Points)\n",
        "Evaluate the models on both test sets using MSE. You can use the `mean_squared_error` from `sklearn.metrics`.\n"
      ]
    },
    {
      "cell_type": "code",
      "execution_count": 6,
      "id": "6880b6f1",
      "metadata": {
        "id": "6880b6f1"
      },
      "outputs": [],
      "source": [
        "from sklearn.metrics import mean_squared_error\n",
        "\n",
        "def evaluate_models(models, X_test, y_test):\n",
        "    losses = {}\n",
        "    for degree, model in models.items():\n",
        "        y_pred = model.predict(X_test.reshape(-1, 1))\n",
        "        mse = mean_squared_error(y_test, y_pred)\n",
        "        losses[degree] = mse\n",
        "    return losses\n"
      ]
    },
    {
      "cell_type": "code",
      "execution_count": 7,
      "id": "ceaab42f",
      "metadata": {
        "colab": {
          "base_uri": "https://localhost:8080/"
        },
        "id": "ceaab42f",
        "outputId": "d14b2354-7830-44bf-9c9b-4b309da278ce"
      },
      "outputs": [
        {
          "output_type": "execute_result",
          "data": {
            "text/plain": [
              "{2: 35.28378348971785,\n",
              " 3: 27.067721875135124,\n",
              " 4: 27.232892335284497,\n",
              " 5: 27.228405014117534,\n",
              " 6: 27.233578478608987,\n",
              " 7: 26.957277378716284}"
            ]
          },
          "metadata": {},
          "execution_count": 7
        }
      ],
      "source": [
        "losses_train = evaluate_models(models, X_train, y_train)\n",
        "losses_in_range = evaluate_models(models, X_test_in_range, y_test_in_range)\n",
        "losses_out_of_range = evaluate_models(models, X_test_out_of_range, y_test_out_of_range)\n",
        "\n",
        "\n",
        "losses_in_range\n",
        "\n"
      ]
    },
    {
      "cell_type": "markdown",
      "id": "9691fb1d",
      "metadata": {
        "id": "9691fb1d"
      },
      "source": [
        "## 5. Plotting Model Scores (20 Points)\n",
        "\n",
        "Now to evaluate the performance of the polynomial regression models, plot the **logarithm** of losses of the training and two test sets based on the model degree varying from 3 to 7. Train the model a few times to get a sense of how the results can change.\n"
      ]
    },
    {
      "cell_type": "code",
      "source": [
        "from sklearn.metrics import mean_squared_error\n",
        "from sklearn.model_selection import train_test_split\n",
        "\n",
        "iterations = 5\n",
        "degrees = range(3, 8)\n",
        "\n",
        "training_losses = {degree: [] for degree in degrees}\n",
        "in_range_losses = {degree: [] for degree in degrees}\n",
        "out_range_losses = {degree: [] for degree in degrees}\n",
        "\n",
        "for _ in range(iterations):\n",
        "    X_train, X_temp, y_train, y_temp = train_test_split(X, y, test_size=0.4, random_state=None)\n",
        "    X_test_in_range, X_test_unused, y_test_in_range, y_test_unused = train_test_split(\n",
        "        X_temp, y_temp, test_size=0.5, random_state=None)\n",
        "\n",
        "    models = {degree: train_polynomial_regression(X_train, y_train, degree) for degree in degrees}\n",
        "\n",
        "    for degree, model in models.items():\n",
        "        y_train_pred = model.predict(X_train.reshape(-1, 1))\n",
        "        training_losses[degree].append(mean_squared_error(y_train, y_train_pred))\n",
        "\n",
        "        y_test_in_pred = model.predict(X_test_in_range.reshape(-1, 1))\n",
        "        in_range_losses[degree].append(mean_squared_error(y_test_in_range, y_test_in_pred))\n",
        "\n",
        "        y_test_out_pred = model.predict(X_test_out_of_range.reshape(-1, 1))\n",
        "        out_range_losses[degree].append(mean_squared_error(y_test_out_of_range, y_test_out_pred))\n",
        "\n"
      ],
      "metadata": {
        "id": "0w_gj0HTPVjx"
      },
      "id": "0w_gj0HTPVjx",
      "execution_count": 17,
      "outputs": []
    },
    {
      "cell_type": "code",
      "source": [
        "import numpy as np\n",
        "from matplotlib import pyplot as plt\n",
        "\n",
        "fig, (ax1, ax2, ax3) = plt.subplots(1, 3, figsize=(18, 6))\n",
        "fig.suptitle('Logarithm of Losses by Model Degree')\n",
        "\n",
        "def plot_losses(ax, losses, title):\n",
        "    for degree in degrees:\n",
        "        avg_log_loss = np.log(np.mean(losses[degree]))\n",
        "        ax.plot(degree, avg_log_loss, 'bo')\n",
        "        ax.text(degree, avg_log_loss, f\"{avg_log_loss:.2f}\")\n",
        "    ax.set_title(title)\n",
        "    ax.set_xlabel('Degree of Polynomial')\n",
        "    ax.set_ylabel('Log of Mean Squared Error')\n",
        "    ax.grid(True)\n",
        "\n",
        "\n",
        "plot_losses(ax1, training_losses, 'Training Set Losses')\n",
        "plot_losses(ax2, in_range_losses, 'In-range Test Set Losses')\n",
        "plot_losses(ax3, out_range_losses, 'Out-of-range Test Set Losses')\n",
        "\n",
        "plt.show()\n"
      ],
      "metadata": {
        "colab": {
          "base_uri": "https://localhost:8080/",
          "height": 592
        },
        "id": "OLz94bgAUE_d",
        "outputId": "01692d70-4c2d-4a38-ad42-3114725f9ccb"
      },
      "id": "OLz94bgAUE_d",
      "execution_count": 18,
      "outputs": [
        {
          "output_type": "display_data",
          "data": {
            "text/plain": [
              "<Figure size 1800x600 with 3 Axes>"
            ],
            "image/png": "[encoded data removed]"
          },
          "metadata": {}
        }
      ]
    },
    {
      "cell_type": "markdown",
      "id": "36eb1c60",
      "metadata": {
        "id": "36eb1c60"
      },
      "source": [
        "## Conclusion (10 Points)"
      ]
    },
    {
      "cell_type": "markdown",
      "id": "a0f48498",
      "metadata": {
        "id": "a0f48498"
      },
      "source": [
        "Now print out the losses on each set here."
      ]
    },
    {
      "cell_type": "code",
      "source": [
        "# Function to calculate and print average losses\n",
        "def print_average_losses(losses_dict, description):\n",
        "    print(f\"Average Losses for {description}:\")\n",
        "    for degree in degrees:\n",
        "        avg_loss = np.mean(losses_dict[degree])\n",
        "        print(f\"Degree {degree}: {avg_loss:.2f}\")\n",
        "\n",
        "# Printing average losses for each set\n",
        "print_average_losses(training_losses, \"Training Set\")\n",
        "print(\"\\n\")\n",
        "print_average_losses(in_range_losses, \"In-Range Test Set\")\n",
        "print(\"\\n\")\n",
        "print_average_losses(out_range_losses, \"Out-of-Range Test Set\")\n"
      ],
      "metadata": {
        "colab": {
          "base_uri": "https://localhost:8080/"
        },
        "id": "ctBXHIrf8veh",
        "outputId": "3c6644b1-d882-4890-a6b3-f7ebd9a0f96b"
      },
      "id": "ctBXHIrf8veh",
      "execution_count": 19,
      "outputs": [
        {
          "output_type": "stream",
          "name": "stdout",
          "text": [
            "Average Losses for Training Set:\n",
            "Degree 3: 24.05\n",
            "Degree 4: 24.02\n",
            "Degree 5: 23.96\n",
            "Degree 6: 23.91\n",
            "Degree 7: 23.84\n",
            "\n",
            "\n",
            "Average Losses for In-Range Test Set:\n",
            "Degree 3: 23.83\n",
            "Degree 4: 24.02\n",
            "Degree 5: 24.19\n",
            "Degree 6: 24.27\n",
            "Degree 7: 24.42\n",
            "\n",
            "\n",
            "Average Losses for Out-of-Range Test Set:\n",
            "Degree 3: 9272699.35\n",
            "Degree 4: 9133238.01\n",
            "Degree 5: 1494837856.32\n",
            "Degree 6: 201412187322.54\n",
            "Degree 7: 42273849247907.08\n"
          ]
        }
      ]
    },
    {
      "cell_type": "markdown",
      "id": "8522d946",
      "metadata": {
        "id": "8522d946"
      },
      "source": [
        "With comparing the loss of **training set and the in-range test set** and also **in-range test set and the out-of-range test set**, specially in higher degrees, what we can conclude about the bias - variance trade off?"
      ]
    },
    {
      "cell_type": "markdown",
      "id": "68948cb0",
      "metadata": {
        "id": "68948cb0"
      },
      "source": [
        "**Answer:**\n",
        "\n",
        "When using polynomial regression models, here's what we observe:\n",
        "\n",
        "1. **Higher-degree models fit the training data really well**: They capture every tiny detail, even noise, which might seem great but leads to overfitting. This means they're too tailored to the training data.\n",
        "\n",
        "2. **Overfitting hurts generalization**: These complex models perform poorly on new, especially out-of-range, data because they can't adapt to differences from the training set. They're great with familiar data but struggle with anything new.\n",
        "\n",
        "3. **Balance is key**: Lower-degree models might miss some data details but handle new situations better. So, finding a balance between fitting the training data well and maintaining flexibility for new data is crucial.\n",
        "\n",
        "In essence, while higher degrees can nail the training data, they falter on new challenges, showing the classic trade-off between fitting known data perfectly and performing well on new, unseen data."
      ]
    },
    {
      "cell_type": "markdown",
      "id": "34af1a91",
      "metadata": {
        "id": "34af1a91"
      },
      "source": [
        "Expected to explain overfitiing on the training set and also the face that model has less generalization to unseen data.\n",
        "\n",
        "\n"
      ]
    }
  ],
  "metadata": {
    "kernelspec": {
      "display_name": "Python 3",
      "language": "python",
      "name": "python3"
    },
    "language_info": {
      "codemirror_mode": {
        "name": "ipython",
        "version": 3
      },
      "file_extension": ".py",
      "mimetype": "text/x-python",
      "name": "python",
      "nbconvert_exporter": "python",
      "pygments_lexer": "ipython3",
      "version": "3.11.4"
    },
    "colab": {
      "provenance": []
    }
  },
  "nbformat": 4,
  "nbformat_minor": 5
}