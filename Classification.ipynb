{
  "nbformat": 4,
  "nbformat_minor": 0,
  "metadata": {
    "colab": {
      "provenance": [],
      "gpuType": "T4"
    },
    "kernelspec": {
      "name": "python3",
      "display_name": "Python 3"
    },
    "language_info": {
      "name": "python"
    },
    "accelerator": "GPU"
  },
  "cells": [
    {
      "cell_type": "markdown",
      "source": [
        "Mobina SalimiPanah - 99109788"
      ],
      "metadata": {
        "id": "-aVo7q2AaVU-"
      }
    },
    {
      "cell_type": "markdown",
      "source": [
        "# Bank Marketing Classification\n",
        "\n",
        "In this part of the assignment we want to do a classification task using PyTorch on bank marketing dataset."
      ],
      "metadata": {
        "id": "MT-ucU8DVPt8"
      }
    },
    {
      "cell_type": "markdown",
      "source": [
        "#Import Library"
      ],
      "metadata": {
        "id": "rZlNNmgqYkV4"
      }
    },
    {
      "cell_type": "code",
      "source": [
        "import torch\n",
        "import torch.nn as nn\n",
        "import torch.nn.functional as F\n",
        "import torch.optim as optim\n",
        "import pandas as pd\n",
        "import numpy as np\n",
        "import matplotlib.pyplot as plt\n",
        "from sklearn.model_selection import train_test_split\n",
        "from sklearn.preprocessing import StandardScaler, LabelEncoder\n",
        "from torch.utils.data import DataLoader, TensorDataset\n",
        "from tqdm import tqdm\n"
      ],
      "metadata": {
        "id": "NOh9eJ4pYnu2"
      },
      "execution_count": 121,
      "outputs": []
    },
    {
      "cell_type": "markdown",
      "source": [
        "#Load Dataset\n",
        "Here, you should download and load the dataset. After that, you should split train dataset to train and validation sets. Finally, define the dataloaders for `train`, `validation` and `test`"
      ],
      "metadata": {
        "id": "EJaMVgX1XcZm"
      }
    },
    {
      "cell_type": "code",
      "source": [
        "data = pd.read_csv('bank-full.csv', delimiter=';')\n",
        "print(data.columns)"
      ],
      "metadata": {
        "colab": {
          "base_uri": "https://localhost:8080/"
        },
        "id": "3TBsrJ5vPhZo",
        "outputId": "d1ae7695-01c0-4a2d-b10a-4373329b198b"
      },
      "execution_count": 122,
      "outputs": [
        {
          "output_type": "stream",
          "name": "stdout",
          "text": [
            "Index(['age', 'job', 'marital', 'education', 'default', 'balance', 'housing',\n",
            "       'loan', 'contact', 'day', 'month', 'duration', 'campaign', 'pdays',\n",
            "       'previous', 'poutcome', 'y'],\n",
            "      dtype='object')\n"
          ]
        }
      ]
    },
    {
      "cell_type": "code",
      "source": [
        "data.columns = data.columns.str.strip()\n",
        "data.columns = data.columns.str.replace('\"', '')\n"
      ],
      "metadata": {
        "id": "mv-_eo7hQbDd"
      },
      "execution_count": 123,
      "outputs": []
    },
    {
      "cell_type": "code",
      "source": [
        "#TODO\n",
        "X = data.drop('y', axis=1)\n",
        "y = data['y']\n",
        "\n",
        "le = LabelEncoder()\n",
        "y = le.fit_transform(y)\n",
        "\n",
        "X_train, X_test, y_train, y_test = train_test_split(X, y, test_size=0.2, random_state=37)\n",
        "X_train, X_val, y_train, y_val = train_test_split(X_train, y_train, test_size=0.25, random_state=37)\n"
      ],
      "metadata": {
        "id": "9YSstSPUXwu2"
      },
      "execution_count": 124,
      "outputs": []
    },
    {
      "cell_type": "markdown",
      "source": [
        "#Normalize data\n",
        "normalize numerical data."
      ],
      "metadata": {
        "id": "Keip2OUFX8qk"
      }
    },
    {
      "cell_type": "code",
      "source": [
        "\n",
        "categorical_features = [col for col in X.columns if X[col].dtype == 'object']\n",
        "numerical_features = [col for col in X.columns if X[col].dtype != 'object']\n",
        "\n",
        "X_numerical = X_train[numerical_features]\n",
        "\n",
        "scaler = StandardScaler()\n",
        "\n",
        "X_train_num_scaled = scaler.fit_transform(X_numerical)\n",
        "\n",
        "X_val_num_scaled = scaler.transform(X_val[numerical_features])\n",
        "X_test_num_scaled = scaler.transform(X_test[numerical_features])\n",
        "\n",
        "from sklearn.preprocessing import OneHotEncoder\n",
        "\n",
        "encoder = OneHotEncoder(sparse=False)\n",
        "\n",
        "X_train_cat_encoded = encoder.fit_transform(X_train[categorical_features])\n",
        "\n",
        "X_val_cat_encoded = encoder.transform(X_val[categorical_features])\n",
        "X_test_cat_encoded = encoder.transform(X_test[categorical_features])\n",
        "\n",
        "X_train_prepared = np.concatenate([X_train_num_scaled, X_train_cat_encoded], axis=1)\n",
        "X_val_prepared = np.concatenate([X_val_num_scaled, X_val_cat_encoded], axis=1)\n",
        "X_test_prepared = np.concatenate([X_test_num_scaled, X_test_cat_encoded], axis=1)\n",
        "\n"
      ],
      "metadata": {
        "id": "e-Wk_AoiYfo4",
        "colab": {
          "base_uri": "https://localhost:8080/"
        },
        "outputId": "1dab2a84-2b03-431a-8904-6d065b9e6bbd"
      },
      "execution_count": 125,
      "outputs": [
        {
          "output_type": "stream",
          "name": "stderr",
          "text": [
            "/usr/local/lib/python3.10/dist-packages/sklearn/preprocessing/_encoders.py:868: FutureWarning: `sparse` was renamed to `sparse_output` in version 1.2 and will be removed in 1.4. `sparse_output` is ignored unless you leave `sparse` to its default value.\n",
            "  warnings.warn(\n"
          ]
        }
      ]
    },
    {
      "cell_type": "markdown",
      "source": [
        "# Create Data Loader\n",
        "create data loader for pytorch"
      ],
      "metadata": {
        "id": "8TnDg_OtYrWl"
      }
    },
    {
      "cell_type": "code",
      "source": [
        "#TODO\n",
        "X_train_tensor = torch.tensor(X_train_prepared, dtype=torch.float32)\n",
        "y_train_tensor = torch.tensor(y_train, dtype=torch.float32)\n",
        "\n",
        "X_val_tensor = torch.tensor(X_val_prepared, dtype=torch.float32)\n",
        "y_val_tensor = torch.tensor(y_val, dtype=torch.float32)\n",
        "\n",
        "X_test_tensor = torch.tensor(X_test_prepared, dtype=torch.float32)\n",
        "y_test_tensor = torch.tensor(y_test, dtype=torch.float32)\n",
        "\n",
        "train_dataset = TensorDataset(X_train_tensor, y_train_tensor)\n",
        "val_dataset = TensorDataset(X_val_tensor, y_val_tensor)\n",
        "test_dataset = TensorDataset(X_test_tensor, y_test_tensor)\n",
        "\n",
        "batch_size = 64\n",
        "train_loader = DataLoader(train_dataset, batch_size=batch_size, shuffle=True)\n",
        "val_loader = DataLoader(val_dataset, batch_size=batch_size, shuffle=False)\n",
        "test_loader = DataLoader(test_dataset, batch_size=batch_size, shuffle=False)"
      ],
      "metadata": {
        "id": "yIdgxZMUYqzE"
      },
      "execution_count": 126,
      "outputs": []
    },
    {
      "cell_type": "markdown",
      "source": [
        "#Model\n",
        "define your model in here"
      ],
      "metadata": {
        "id": "GBtQo2PBY9zS"
      }
    },
    {
      "cell_type": "code",
      "source": [
        "class BankMarketingNet(nn.Module):\n",
        "    def __init__(self):\n",
        "        super(BankMarketingNet, self).__init__()\n",
        "        self.fc1 = nn.Linear(51, 64)\n",
        "        self.fc2 = nn.Linear(64, 32)\n",
        "        self.fc3 = nn.Linear(32, 16)\n",
        "        self.output = nn.Linear(16, 1)\n",
        "        self.relu = nn.ReLU()\n",
        "\n",
        "    def forward(self, x):\n",
        "        x = self.relu(self.fc1(x))\n",
        "        x = self.relu(self.fc2(x))\n",
        "        x = self.relu(self.fc3(x))\n",
        "        x = torch.sigmoid(self.output(x))\n",
        "        return x"
      ],
      "metadata": {
        "id": "C5k1GGexZCGD"
      },
      "execution_count": 127,
      "outputs": []
    },
    {
      "cell_type": "markdown",
      "source": [
        "#Train your model\n",
        "Define `criterion` and `optimizer`.\n",
        "Train your model\n",
        "\n",
        "Tasks:\n",
        "- [ ] Things that are needed to be printed in each epoch:\n",
        "  - Number of epoch\n",
        "  - Train loss\n",
        "  - Validation loss\n",
        "- [ ] save train/validation loss (of each epoch) in an array for later usage"
      ],
      "metadata": {
        "id": "P_ef2VVkZHpj"
      }
    },
    {
      "cell_type": "code",
      "source": [
        "model = BankMarketingNet()\n",
        "\n",
        "criterion = nn.BCELoss()\n",
        "optimizer = optim.Adam(model.parameters(), lr=0.001)\n"
      ],
      "metadata": {
        "id": "1fh0CfLKZBKJ"
      },
      "execution_count": 128,
      "outputs": []
    },
    {
      "cell_type": "code",
      "source": [
        "#TODO\n",
        "\n",
        "epochs = 20\n",
        "train_losses = []\n",
        "val_losses = []\n",
        "\n",
        "for epoch in range(epochs):\n",
        "    model.train()\n",
        "    train_loss = 0.0\n",
        "    for data, target in tqdm(train_loader, total=len(train_loader), desc=f'Epoch {epoch+1}/{epochs}', unit='batch'):\n",
        "        optimizer.zero_grad()\n",
        "        output = model(data)\n",
        "        loss = criterion(output.squeeze(), target)\n",
        "        loss.backward()\n",
        "        optimizer.step()\n",
        "        train_loss += loss.item()\n",
        "\n",
        "    train_loss /= len(train_loader)\n",
        "    train_losses.append(train_loss)\n",
        "\n",
        "    # Validation\n",
        "    model.eval()\n",
        "    val_loss = 0.0\n",
        "    with torch.no_grad():\n",
        "        for data, target in tqdm(val_loader, total=len(val_loader), desc='Validation Loss', unit='batch'):\n",
        "            output = model(data)\n",
        "            loss = criterion(output.squeeze(), target)\n",
        "            val_loss += loss.item()\n",
        "\n",
        "    val_loss /= len(val_loader)\n",
        "    val_losses.append(val_loss)\n",
        "\n",
        "    print(f'Epoch {epoch+1}/{epochs}: Train Loss: {train_loss:.4f}, Validation Loss: {val_loss:.4f}')\n",
        "\n"
      ],
      "metadata": {
        "colab": {
          "base_uri": "https://localhost:8080/"
        },
        "id": "Q2TPeig3XOQR",
        "outputId": "ab1cba68-1e28-4d30-b6d5-a961c98156c1"
      },
      "execution_count": 129,
      "outputs": [
        {
          "output_type": "stream",
          "name": "stderr",
          "text": [
            "Epoch 1/20: 100%|██████████| 424/424 [00:01<00:00, 423.77batch/s]\n",
            "Validation Loss: 100%|██████████| 142/142 [00:00<00:00, 1286.89batch/s]\n"
          ]
        },
        {
          "output_type": "stream",
          "name": "stdout",
          "text": [
            "Epoch 1/20: Train Loss: 0.2710, Validation Loss: 0.2219\n"
          ]
        },
        {
          "output_type": "stream",
          "name": "stderr",
          "text": [
            "Epoch 2/20: 100%|██████████| 424/424 [00:00<00:00, 483.28batch/s]\n",
            "Validation Loss: 100%|██████████| 142/142 [00:00<00:00, 1348.32batch/s]\n"
          ]
        },
        {
          "output_type": "stream",
          "name": "stdout",
          "text": [
            "Epoch 2/20: Train Loss: 0.2171, Validation Loss: 0.2223\n"
          ]
        },
        {
          "output_type": "stream",
          "name": "stderr",
          "text": [
            "Epoch 3/20: 100%|██████████| 424/424 [00:01<00:00, 383.68batch/s]\n",
            "Validation Loss: 100%|██████████| 142/142 [00:00<00:00, 1317.28batch/s]\n"
          ]
        },
        {
          "output_type": "stream",
          "name": "stdout",
          "text": [
            "Epoch 3/20: Train Loss: 0.2100, Validation Loss: 0.2153\n"
          ]
        },
        {
          "output_type": "stream",
          "name": "stderr",
          "text": [
            "Epoch 4/20: 100%|██████████| 424/424 [00:00<00:00, 483.25batch/s]\n",
            "Validation Loss: 100%|██████████| 142/142 [00:00<00:00, 1257.48batch/s]\n"
          ]
        },
        {
          "output_type": "stream",
          "name": "stdout",
          "text": [
            "Epoch 4/20: Train Loss: 0.2044, Validation Loss: 0.2107\n"
          ]
        },
        {
          "output_type": "stream",
          "name": "stderr",
          "text": [
            "Epoch 5/20: 100%|██████████| 424/424 [00:00<00:00, 498.32batch/s]\n",
            "Validation Loss: 100%|██████████| 142/142 [00:00<00:00, 1237.84batch/s]\n"
          ]
        },
        {
          "output_type": "stream",
          "name": "stdout",
          "text": [
            "Epoch 5/20: Train Loss: 0.1999, Validation Loss: 0.2086\n"
          ]
        },
        {
          "output_type": "stream",
          "name": "stderr",
          "text": [
            "Epoch 6/20: 100%|██████████| 424/424 [00:00<00:00, 498.42batch/s]\n",
            "Validation Loss: 100%|██████████| 142/142 [00:00<00:00, 1427.19batch/s]\n"
          ]
        },
        {
          "output_type": "stream",
          "name": "stdout",
          "text": [
            "Epoch 6/20: Train Loss: 0.1965, Validation Loss: 0.2096\n"
          ]
        },
        {
          "output_type": "stream",
          "name": "stderr",
          "text": [
            "Epoch 7/20: 100%|██████████| 424/424 [00:00<00:00, 497.69batch/s]\n",
            "Validation Loss: 100%|██████████| 142/142 [00:00<00:00, 1282.71batch/s]\n"
          ]
        },
        {
          "output_type": "stream",
          "name": "stdout",
          "text": [
            "Epoch 7/20: Train Loss: 0.1940, Validation Loss: 0.2067\n"
          ]
        },
        {
          "output_type": "stream",
          "name": "stderr",
          "text": [
            "Epoch 8/20: 100%|██████████| 424/424 [00:00<00:00, 495.41batch/s]\n",
            "Validation Loss: 100%|██████████| 142/142 [00:00<00:00, 1420.22batch/s]\n"
          ]
        },
        {
          "output_type": "stream",
          "name": "stdout",
          "text": [
            "Epoch 8/20: Train Loss: 0.1907, Validation Loss: 0.2077\n"
          ]
        },
        {
          "output_type": "stream",
          "name": "stderr",
          "text": [
            "Epoch 9/20: 100%|██████████| 424/424 [00:00<00:00, 492.35batch/s]\n",
            "Validation Loss: 100%|██████████| 142/142 [00:00<00:00, 1036.97batch/s]\n"
          ]
        },
        {
          "output_type": "stream",
          "name": "stdout",
          "text": [
            "Epoch 9/20: Train Loss: 0.1891, Validation Loss: 0.2063\n"
          ]
        },
        {
          "output_type": "stream",
          "name": "stderr",
          "text": [
            "Epoch 10/20: 100%|██████████| 424/424 [00:00<00:00, 483.77batch/s]\n",
            "Validation Loss: 100%|██████████| 142/142 [00:00<00:00, 1143.58batch/s]\n"
          ]
        },
        {
          "output_type": "stream",
          "name": "stdout",
          "text": [
            "Epoch 10/20: Train Loss: 0.1868, Validation Loss: 0.2134\n"
          ]
        },
        {
          "output_type": "stream",
          "name": "stderr",
          "text": [
            "Epoch 11/20: 100%|██████████| 424/424 [00:01<00:00, 350.57batch/s]\n",
            "Validation Loss: 100%|██████████| 142/142 [00:00<00:00, 919.60batch/s]\n"
          ]
        },
        {
          "output_type": "stream",
          "name": "stdout",
          "text": [
            "Epoch 11/20: Train Loss: 0.1845, Validation Loss: 0.2066\n"
          ]
        },
        {
          "output_type": "stream",
          "name": "stderr",
          "text": [
            "Epoch 12/20: 100%|██████████| 424/424 [00:01<00:00, 337.77batch/s]\n",
            "Validation Loss: 100%|██████████| 142/142 [00:00<00:00, 765.77batch/s]\n"
          ]
        },
        {
          "output_type": "stream",
          "name": "stdout",
          "text": [
            "Epoch 12/20: Train Loss: 0.1826, Validation Loss: 0.2074\n"
          ]
        },
        {
          "output_type": "stream",
          "name": "stderr",
          "text": [
            "Epoch 13/20: 100%|██████████| 424/424 [00:00<00:00, 461.21batch/s]\n",
            "Validation Loss: 100%|██████████| 142/142 [00:00<00:00, 1440.73batch/s]\n"
          ]
        },
        {
          "output_type": "stream",
          "name": "stdout",
          "text": [
            "Epoch 13/20: Train Loss: 0.1809, Validation Loss: 0.2087\n"
          ]
        },
        {
          "output_type": "stream",
          "name": "stderr",
          "text": [
            "Epoch 14/20: 100%|██████████| 424/424 [00:00<00:00, 495.20batch/s]\n",
            "Validation Loss: 100%|██████████| 142/142 [00:00<00:00, 1357.06batch/s]\n"
          ]
        },
        {
          "output_type": "stream",
          "name": "stdout",
          "text": [
            "Epoch 14/20: Train Loss: 0.1792, Validation Loss: 0.2123\n"
          ]
        },
        {
          "output_type": "stream",
          "name": "stderr",
          "text": [
            "Epoch 15/20: 100%|██████████| 424/424 [00:00<00:00, 485.60batch/s]\n",
            "Validation Loss: 100%|██████████| 142/142 [00:00<00:00, 1312.17batch/s]\n"
          ]
        },
        {
          "output_type": "stream",
          "name": "stdout",
          "text": [
            "Epoch 15/20: Train Loss: 0.1775, Validation Loss: 0.2082\n"
          ]
        },
        {
          "output_type": "stream",
          "name": "stderr",
          "text": [
            "Epoch 16/20: 100%|██████████| 424/424 [00:00<00:00, 480.48batch/s]\n",
            "Validation Loss: 100%|██████████| 142/142 [00:00<00:00, 1305.91batch/s]\n"
          ]
        },
        {
          "output_type": "stream",
          "name": "stdout",
          "text": [
            "Epoch 16/20: Train Loss: 0.1759, Validation Loss: 0.2103\n"
          ]
        },
        {
          "output_type": "stream",
          "name": "stderr",
          "text": [
            "Epoch 17/20: 100%|██████████| 424/424 [00:00<00:00, 493.22batch/s]\n",
            "Validation Loss: 100%|██████████| 142/142 [00:00<00:00, 1282.02batch/s]\n"
          ]
        },
        {
          "output_type": "stream",
          "name": "stdout",
          "text": [
            "Epoch 17/20: Train Loss: 0.1743, Validation Loss: 0.2114\n"
          ]
        },
        {
          "output_type": "stream",
          "name": "stderr",
          "text": [
            "Epoch 18/20: 100%|██████████| 424/424 [00:00<00:00, 488.38batch/s]\n",
            "Validation Loss: 100%|██████████| 142/142 [00:00<00:00, 1244.55batch/s]\n"
          ]
        },
        {
          "output_type": "stream",
          "name": "stdout",
          "text": [
            "Epoch 18/20: Train Loss: 0.1727, Validation Loss: 0.2109\n"
          ]
        },
        {
          "output_type": "stream",
          "name": "stderr",
          "text": [
            "Epoch 19/20: 100%|██████████| 424/424 [00:00<00:00, 490.83batch/s]\n",
            "Validation Loss: 100%|██████████| 142/142 [00:00<00:00, 1343.22batch/s]\n"
          ]
        },
        {
          "output_type": "stream",
          "name": "stdout",
          "text": [
            "Epoch 19/20: Train Loss: 0.1702, Validation Loss: 0.2135\n"
          ]
        },
        {
          "output_type": "stream",
          "name": "stderr",
          "text": [
            "Epoch 20/20: 100%|██████████| 424/424 [00:00<00:00, 479.00batch/s]\n",
            "Validation Loss: 100%|██████████| 142/142 [00:00<00:00, 1271.45batch/s]"
          ]
        },
        {
          "output_type": "stream",
          "name": "stdout",
          "text": [
            "Epoch 20/20: Train Loss: 0.1699, Validation Loss: 0.2147\n"
          ]
        },
        {
          "output_type": "stream",
          "name": "stderr",
          "text": [
            "\n"
          ]
        }
      ]
    },
    {
      "cell_type": "markdown",
      "source": [
        "### Visualize Loss plot\n",
        "\n",
        "Using the arrays that you have (from previous task in the above section), visualize Loss plot (train and validation together)"
      ],
      "metadata": {
        "id": "OIFKhbNweZzc"
      }
    },
    {
      "cell_type": "code",
      "source": [
        "import matplotlib.pyplot as plt\n",
        "\n",
        "epochs = range(1, len(train_losses) + 1)\n",
        "\n",
        "plt.figure(figsize=(10, 5))\n",
        "plt.plot(epochs, train_losses, 'bo-', label='Training loss')\n",
        "plt.plot(epochs, val_losses, 'ro-', label='Validation loss')\n",
        "plt.title('Training and Validation Loss')\n",
        "plt.xlabel('Epochs')\n",
        "plt.ylabel('Loss')\n",
        "plt.legend()\n",
        "\n",
        "plt.show()"
      ],
      "metadata": {
        "colab": {
          "base_uri": "https://localhost:8080/",
          "height": 487
        },
        "id": "mYU9awQPZU3Q",
        "outputId": "f7df5699-07f8-4ac4-9c50-33454d8da4c0"
      },
      "execution_count": 130,
      "outputs": [
        {
          "output_type": "display_data",
          "data": {
            "text/plain": [
              "<Figure size 1000x500 with 1 Axes>"
            ],
            "image/png": "[encoded data removed]"
          },
          "metadata": {}
        }
      ]
    },
    {
      "cell_type": "markdown",
      "source": [
        "## Evaluation\n",
        "\n",
        "Test your trained model (using the Test Dataloader that you have)."
      ],
      "metadata": {
        "id": "MRo2s0wMakLe"
      }
    },
    {
      "cell_type": "code",
      "source": [
        "model.eval()"
      ],
      "metadata": {
        "colab": {
          "base_uri": "https://localhost:8080/"
        },
        "id": "hXQQGd-3ZjPi",
        "outputId": "1faf6776-4287-4798-a244-3a5a334b0236"
      },
      "execution_count": 131,
      "outputs": [
        {
          "output_type": "execute_result",
          "data": {
            "text/plain": [
              "BankMarketingNet(\n",
              "  (fc1): Linear(in_features=51, out_features=64, bias=True)\n",
              "  (fc2): Linear(in_features=64, out_features=32, bias=True)\n",
              "  (fc3): Linear(in_features=32, out_features=16, bias=True)\n",
              "  (output): Linear(in_features=16, out_features=1, bias=True)\n",
              "  (relu): ReLU()\n",
              ")"
            ]
          },
          "metadata": {},
          "execution_count": 131
        }
      ]
    },
    {
      "cell_type": "code",
      "source": [
        "#TODO\n",
        "with torch.no_grad():\n",
        "    correct = 0\n",
        "    total = 0\n",
        "\n",
        "    for data, targets in test_loader:\n",
        "        outputs = model(data)\n",
        "        _, predicted = torch.max(outputs.data, 1)\n",
        "        total += targets.size(0)\n",
        "        correct += (predicted == targets).sum().item()\n",
        "\n",
        "# Calculate the accuracy\n",
        "accuracy = 100 * correct / total\n",
        "print(f'Accuracy : {accuracy}%')\n"
      ],
      "metadata": {
        "colab": {
          "base_uri": "https://localhost:8080/"
        },
        "id": "6TplSeYPakTT",
        "outputId": "9fb4a45a-b023-4691-d15d-b2d7bfebea47"
      },
      "execution_count": 132,
      "outputs": [
        {
          "output_type": "stream",
          "name": "stdout",
          "text": [
            "Accuracy : 88.51045007187881%\n"
          ]
        }
      ]
    }
  ]
}